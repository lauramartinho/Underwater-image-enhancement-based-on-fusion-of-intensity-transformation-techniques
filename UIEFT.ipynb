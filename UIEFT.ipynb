{
  "cells": [
    {
      "cell_type": "markdown",
      "metadata": {
        "id": "view-in-github",
        "colab_type": "text"
      },
      "source": [
        "<a href=\"https://colab.research.google.com/github/lauramartinho/Underwater-image-enhancement-based-on-fusion-of-intensity-transformation-techniques/blob/main/UIEFT.ipynb\" target=\"_parent\"><img src=\"https://colab.research.google.com/assets/colab-badge.svg\" alt=\"Open In Colab\"/></a>"
      ]
    },
    {
      "cell_type": "markdown",
      "metadata": {
        "id": "YPpvrekS8b_5"
      },
      "source": [
        "### ***Imports***"
      ]
    },
    {
      "cell_type": "code",
      "execution_count": 1,
      "metadata": {
        "id": "Zj5KPbmS0T6z"
      },
      "outputs": [],
      "source": [
        "import cv2 #OpenCv cv2\n",
        "from google.colab.patches import cv2_imshow\n",
        "import numpy as np #Numpy\n",
        "from google.colab import files \n",
        "import os\n",
        "from scipy import ndimage\n",
        "import math\n",
        "from PIL import Image, ImageOps\n",
        "from glob import glob\n",
        "from os.path import join\n",
        "from ntpath import basename\n",
        "from skimage.metrics import peak_signal_noise_ratio, structural_similarity\n",
        "import sys\n",
        "from skimage import io, color, filters, measure\n",
        "from scipy.ndimage import gaussian_filter"
      ]
    },
    {
      "cell_type": "markdown",
      "metadata": {
        "id": "exGrWPgt7MGq"
      },
      "source": [
        "### ***Image Processing Pipeline - functions***"
      ]
    },
    {
      "cell_type": "code",
      "execution_count": 2,
      "metadata": {
        "id": "BCRyVEnc1GGg"
      },
      "outputs": [],
      "source": [
        "def colorCorrection(imagem, intensidade):\n",
        "  resultados = [] #vetor para receber os resultados das trasnformações \n",
        "  rgb = cv2.split(imagem) #acesso a cada canal de cor\n",
        "  saturacao = rgb[0].shape[0] * rgb[0].shape[1] * intensidade / 500.0 #200\n",
        "  for canal in rgb:\n",
        "      histograma = cv2.calcHist([canal], [0], None, [256], (0,256), accumulate=False)\n",
        "      #low value\n",
        "      lowvalue = np.searchsorted(np.cumsum(histograma), saturacao) #soma acumulada dos elementos valor inferior do histograma e encontra índices onde os elementos devem ser inseridos p/ ordenar\n",
        "      #high value\n",
        "      highvalue = 255-np.searchsorted(np.cumsum(histograma[::-1]), saturacao)#soma acumulada e sort valores superiores\n",
        "      #tomar toda a informação (min/max) da curva linear para aplicar e gerar uma LUT de 256 valores a aplicar nos canais stretching\n",
        "      lut = np.array([0 if i < lowvalue else (255 if i > highvalue else round(float(i-lowvalue)/float(highvalue-lowvalue)*255)) for i in np.arange(0, 256)], dtype=\"uint8\")\n",
        "      #mescla os canais de volta\n",
        "      resultados.append(cv2.LUT(canal, lut))\n",
        "  return cv2.merge(resultados)"
      ]
    },
    {
      "cell_type": "code",
      "execution_count": 3,
      "metadata": {
        "id": "Ne4TbhB41hWp"
      },
      "outputs": [],
      "source": [
        "def gammaCorrection(image, gamma=0.8):  #0.7\n",
        "#construir uma tabela de novos valores mapeados de pixel [0, 255] para seus valores gama ajustados\n",
        "  invGamma = 1.0 / gamma\n",
        "  table = np.array([((i / 255.0) ** invGamma) * 255\n",
        "  for i in np.arange(0, 256)]).astype(\"uint8\")\n",
        "  #aplicar a correção \n",
        "  return cv2.LUT(image, table)"
      ]
    },
    {
      "cell_type": "code",
      "execution_count": 4,
      "metadata": {
        "id": "D__lcYe31iNn"
      },
      "outputs": [],
      "source": [
        "def mascaraNitidez(imagem, kernel=(5, 5), sigma=0.5, intensidade=1.0, threshold=0): #sigma 1.0, intensidade 2.0\n",
        "  suavizacao = cv2.GaussianBlur(imagem, kernel, sigma)\n",
        "  nitidez = float(intensidade + 1) * imagem - float(intensidade) * suavizacao\n",
        "  nitidez = np.maximum(nitidez, np.zeros(nitidez.shape))\n",
        "  nitidez = np.minimum(nitidez, 255 * np.ones(nitidez.shape))\n",
        "  nitidez = nitidez.round().astype(np.uint8)\n",
        "  if threshold > 0:\n",
        "      contraste_baixo = np.absolute(imagem - suavizacao) < threshold\n",
        "      np.copyto(nitidez, imagem, where=contraste_baixo)\n",
        "  return nitidez"
      ]
    },
    {
      "cell_type": "code",
      "execution_count": 5,
      "metadata": {
        "id": "pqCJ0rrz1l4R"
      },
      "outputs": [],
      "source": [
        "def CLAHE(imagem):\n",
        "  clahe = cv2.createCLAHE(clipLimit=4, tileGridSize=(4, 4))\n",
        "  for i in range(3):\n",
        "    imagem[:, :, i] = clahe.apply((imagem[:, :, i]))\n",
        "  return imagem"
      ]
    },
    {
      "cell_type": "code",
      "execution_count": 6,
      "metadata": {
        "id": "QpVtrVmQ12pV"
      },
      "outputs": [],
      "source": [
        "def add(a ,b):\n",
        "  fusao = cv2.addWeighted(a, 0.8, b, 0.5, 0) #combina duas imagens\n",
        "  #0.5/0.5 valores alfa e beta\n",
        "  return fusao\n",
        "\n",
        "def enhacement(imagem):\n",
        "  brightness = 5\n",
        "  contrast = 10\n",
        "  img = np.int16(imagem)\n",
        "  img = img * (contrast/127+1) - contrast + brightness\n",
        "  img = np.clip(img, 0, 255)\n",
        "  final = np.uint8(img)\n",
        "  return final"
      ]
    },
    {
      "cell_type": "code",
      "execution_count": 7,
      "metadata": {
        "id": "dH3xZuYg8uQs"
      },
      "outputs": [],
      "source": [
        "def compare(a,b):\n",
        "   input = a\n",
        "   output= b\n",
        "   cp = np.hstack((input, output))\n",
        "   return cv2_imshow(cp)"
      ]
    },
    {
      "cell_type": "markdown",
      "metadata": {
        "id": "axfIi23z7XVO"
      },
      "source": [
        "### ***Main Function***"
      ]
    },
    {
      "cell_type": "code",
      "execution_count": 8,
      "metadata": {
        "id": "Dp8MZrAc3a05"
      },
      "outputs": [],
      "source": [
        "def UWE(image):\n",
        "   \n",
        "  colorCorrected = colorCorrection(image, 1.0)\n",
        "  gammaCorrected = gammaCorrection(colorCorrected)\n",
        "  edgeEnhacement = mascaraNitidez(gammaCorrected)\n",
        "  clahe = CLAHE(colorCorrected)\n",
        "  gammaCorrected2 = gammaCorrection(colorCorrected)\n",
        "  edgeEnhacement2 = mascaraNitidez(gammaCorrected2)\n",
        "  fusao = add(edgeEnhacement, edgeEnhacement2)\n",
        " \n",
        "  output = enhacement(fusao)\n",
        "  \n",
        "  return output"
      ]
    },
    {
      "cell_type": "markdown",
      "metadata": {
        "id": "KwR19aVE8yi7"
      },
      "source": [
        "### ***Evaluation***"
      ]
    },
    {
      "cell_type": "markdown",
      "metadata": {
        "id": "Nvei8eVN9Ay9"
      },
      "source": [
        "#### ***UIQM***\n",
        "* non reference underwater image quality measure (UIQM) \n",
        "* Attribute measures:\n",
        "colourfulness measure (UICM); sharpness measure (UISM); contrast measure (UIConM)."
      ]
    },
    {
      "cell_type": "markdown",
      "metadata": {
        "id": "nYMdtWhS9lp1"
      },
      "source": [
        "##### ***Assist functions***"
      ]
    },
    {
      "cell_type": "code",
      "execution_count": 10,
      "metadata": {
        "id": "Hm0VVzur-LL5"
      },
      "outputs": [],
      "source": [
        "def mu_a(x, alpha_L=0.1, alpha_R=0.1):\n",
        " \n",
        "    # Calculates the asymetric alpha-trimmed \n",
        "    # Média aparada (dispersão) \n",
        "\n",
        "    # sort pixels by intensity - for clipping\n",
        "    x = sorted(x)\n",
        "    # get number of pixels\n",
        "    K = len(x)\n",
        "    # calculate T alpha L and T alpha R\n",
        "    T_a_L = math.ceil(alpha_L * K)\n",
        "    T_a_R = math.floor(alpha_R * K)\n",
        "    # calculate mu_alpha weight\n",
        "    weight = (1 / (K - T_a_L - T_a_R))\n",
        "    # loop through flattened image starting at T_a_L+1 and ending at K-T_a_R\n",
        "    s = int(T_a_L + 1)\n",
        "    e = int(K - T_a_R)\n",
        "    val = sum(x[s:e])\n",
        "    val = weight * val\n",
        "    return val\n",
        "\n",
        "\n",
        "def s_a(x, mu):\n",
        "    val = 0\n",
        "    for pixel in x:\n",
        "        val += math.pow((pixel - mu), 2)\n",
        "    return val / len(x)\n",
        "\n",
        "def sobel(x):\n",
        "    dx = ndimage.sobel(x, 0)\n",
        "    dy = ndimage.sobel(x, 1)\n",
        "    mag = np.hypot(dx, dy)\n",
        "    mag *= 255.0 / np.max(mag)\n",
        "    return mag\n",
        "\n",
        "\n",
        "def eme(x, window_size):\n",
        "      #Enhancement measure estimation\n",
        "      #x.shape[0] = height\n",
        "      #x.shape[1] = width\n",
        "    \n",
        "    # if 4 blocks, then 2x2...etc.\n",
        "    k1 = x.shape[1] // window_size\n",
        "    k2 = x.shape[0] // window_size\n",
        "\n",
        "    # weight\n",
        "    w = 2. / (k1 * k2)\n",
        "\n",
        "    blocksize_x = window_size\n",
        "    blocksize_y = window_size\n",
        "\n",
        "    # make sure image is divisible by window_size - doesn't matter if we cut out some pixels\n",
        "    x = x[:blocksize_y * k2, :blocksize_x * k1]\n",
        "\n",
        "    val = 0\n",
        "    for l in range(k1):\n",
        "        for k in range(k2):\n",
        "            block = x[k * window_size:window_size * (k + 1), l * window_size:window_size * (l + 1)]\n",
        "            max_ = np.max(block)\n",
        "            min_ = np.min(block)\n",
        "\n",
        "            # bound checks, can't do log(0)\n",
        "            if min_ == 0.0:\n",
        "                val += 0\n",
        "            elif max_ == 0.0:\n",
        "                val += 0\n",
        "            else:\n",
        "                val += math.log(max_ / min_)\n",
        "    return w * val\n",
        "\n",
        "\n",
        "###########################################\n",
        "#logAMEE\n",
        "###########################################\n",
        "def plip_g(x, mu=1026.0):\n",
        "    return mu - x\n",
        "\n",
        "\n",
        "def plip_theta(g1, g2, k):\n",
        "    g1 = plip_g(g1)\n",
        "    g2 = plip_g(g2)\n",
        "    return k * ((g1 - g2) / (k - g2))\n",
        "\n",
        "\n",
        "def plip_cross(g1, g2, gamma):\n",
        "    g1 = plip_g(g1)\n",
        "    g2 = plip_g(g2)\n",
        "    return g1 + g2 - ((g1 * g2) / (gamma))\n",
        "\n",
        "\n",
        "def plip_diag(c, g, gamma):\n",
        "    g = plip_g(g)\n",
        "    return gamma - (gamma * math.pow((1 - (g / gamma)), c))\n",
        "\n",
        "\n",
        "def plip_multiplication(g1, g2):\n",
        "    return plip_phiInverse(plip_phi(g1) * plip_phi(g2))\n",
        "    # return plip_phiInverse(plip_phi(plip_g(g1)) * plip_phi(plip_g(g2)))\n",
        "\n",
        "\n",
        "def plip_phiInverse(g):\n",
        "    plip_lambda = 1026.0\n",
        "    plip_beta = 1.0\n",
        "    return plip_lambda * (1 - math.pow(math.exp(-g / plip_lambda), 1 / plip_beta));\n",
        "\n",
        "\n",
        "def plip_phi(g):\n",
        "    plip_lambda = 1026.0\n",
        "    plip_beta = 1.0\n",
        "    return -plip_lambda * math.pow(math.log(1 - g / plip_lambda), plip_beta)"
      ]
    },
    {
      "cell_type": "markdown",
      "metadata": {
        "id": "0_D069lY9p2E"
      },
      "source": [
        "##### ***UICM, UISM, UICONM***"
      ]
    },
    {
      "cell_type": "code",
      "execution_count": 11,
      "metadata": {
        "id": "dD2r1Dh29z8s"
      },
      "outputs": [],
      "source": [
        "def _uicm(x):\n",
        "    R = x[:, :, 0].flatten()\n",
        "    G = x[:, :, 1].flatten()\n",
        "    B = x[:, :, 2].flatten()\n",
        "    RG = R - G\n",
        "    YB = ((R + G) / 2) - B\n",
        "    mu_a_RG = mu_a(RG)\n",
        "    mu_a_YB = mu_a(YB)\n",
        "    s_a_RG = s_a(RG, mu_a_RG)\n",
        "    s_a_YB = s_a(YB, mu_a_YB)\n",
        "    l = math.sqrt((math.pow(mu_a_RG, 2) + math.pow(mu_a_YB, 2)))\n",
        "    r = math.sqrt(s_a_RG + s_a_YB)\n",
        "    return (-0.0268 * l) + (0.1586 * r)\n",
        "\n",
        "\n",
        "def _uism(x):\n",
        "    # get image channels\n",
        "    R = x[:, :, 0]\n",
        "    G = x[:, :, 1]\n",
        "    B = x[:, :, 2]\n",
        "\n",
        "    # first apply Sobel edge detector to each RGB component\n",
        "    Rs = sobel(R)\n",
        "    Gs = sobel(G)\n",
        "    Bs = sobel(B)\n",
        "\n",
        "    # multiply the edges detected for each channel by the channel itself\n",
        "    R_edge_map = np.multiply(Rs, R)\n",
        "    G_edge_map = np.multiply(Gs, G)\n",
        "    B_edge_map = np.multiply(Bs, B)\n",
        "\n",
        "    # get eme for each channel\n",
        "    r_eme = eme(R_edge_map, 8)\n",
        "    g_eme = eme(G_edge_map, 8)\n",
        "    b_eme = eme(B_edge_map, 8)\n",
        "\n",
        "    # coefficients\n",
        "    lambda_r = 0.299\n",
        "    lambda_g = 0.587\n",
        "    lambda_b = 0.144\n",
        "\n",
        "    return (lambda_r * r_eme) + (lambda_g * g_eme) + (lambda_b * b_eme)\n",
        "\n",
        "\n",
        "def _uiconm(x, window_size):\n",
        "    plip_lambda = 1026.0\n",
        "    plip_gamma = 1026.0\n",
        "    plip_beta = 1.0\n",
        "    plip_mu = 1026.0\n",
        "    plip_k = 1026.0\n",
        "\n",
        "    # if 4 blocks, then 2x2...etc.\n",
        "    k1 = x.shape[1] // window_size\n",
        "    k2 = x.shape[0] // window_size\n",
        "\n",
        "    # weight\n",
        "    w = -1. / (k1 * k2)\n",
        "\n",
        "    blocksize_x = window_size\n",
        "    blocksize_y = window_size\n",
        "\n",
        "    # make sure image is divisible by window_size - doesn't matter if we cut out some pixels\n",
        "    x = x[:blocksize_y * k2, :blocksize_x * k1]\n",
        "\n",
        "    # entropy scale - higher helps with randomness\n",
        "    alpha = 1\n",
        "\n",
        "    val = 0\n",
        "    for l in range(k1):\n",
        "        for k in range(k2):\n",
        "            block = x[k * window_size:window_size * (k + 1), l * window_size:window_size * (l + 1), :]\n",
        "            max_ = np.max(block)\n",
        "            min_ = np.min(block)\n",
        "\n",
        "            top = max_ - min_\n",
        "            bot = max_ + min_\n",
        "\n",
        "            if math.isnan(top) or math.isnan(bot) or bot == 0.0 or top == 0.0:\n",
        "                val += 0.0\n",
        "            else:\n",
        "                val += alpha * math.pow((top / bot), alpha) * math.log(top / bot)\n",
        "\n",
        "            # try: val += plip_multiplication((top/bot),math.log(top/bot))\n",
        "    return w * val"
      ]
    },
    {
      "cell_type": "markdown",
      "metadata": {
        "id": "d9lxM1SU-YmE"
      },
      "source": [
        "##### ***Main Uiqm***"
      ]
    },
    {
      "cell_type": "code",
      "execution_count": 12,
      "metadata": {
        "id": "UtSn1SYP89Mw"
      },
      "outputs": [],
      "source": [
        "def getUIQM(x):\n",
        "    \"\"\"\n",
        "      Function to return UIQM to be called from other programs\n",
        "      x: image\n",
        "    \"\"\"\n",
        "    x = x.astype(np.float32)\n",
        "    ### from https://ieeexplore.ieee.org/stamp/stamp.jsp?tp=&arnumber=7300447\n",
        "    # c1 = 0.4680; c2 = 0.2745; c3 = 0.2576\n",
        "    ### from https://ieeexplore.ieee.org/stamp/stamp.jsp?tp=&arnumber=7300447\n",
        "    \"\"\"\n",
        "    c1 = 0.0282\n",
        "    c2 = 0.2953\n",
        "    c3 = 3.5753\n",
        "    \"\"\"\n",
        "    #\"\"\"\n",
        "    c1 = 0.4680\n",
        "    c2 = 0.2745\n",
        "    c3 = 0.2576\n",
        "    #\"\"\"\n",
        "    uicm = _uicm(x)\n",
        "    uism = _uism(x)\n",
        "    uiconm = _uiconm(x, 8)\n",
        "    uiqm = (c1 * uicm) + (c2 * uism) + (c3 * uiconm)\n",
        "    return uiqm"
      ]
    },
    {
      "cell_type": "markdown",
      "metadata": {
        "id": "WgbcRszm_kQp"
      },
      "source": [
        "#### ***UCIQE***"
      ]
    },
    {
      "cell_type": "code",
      "execution_count": 14,
      "metadata": {
        "id": "6h9bkdJF_ozU"
      },
      "outputs": [],
      "source": [
        "def getUCIQE(img):\n",
        "    img_BGR = img\n",
        "    img_LAB = cv2.cvtColor(img_BGR, cv2.COLOR_BGR2LAB) \n",
        "    img_LAB = np.array(img_LAB,dtype=np.float64)\n",
        "    # Trained coefficients are c1=0.4680, c2=0.2745, c3=0.2576 according to paper.\n",
        "    coe_Metric = [0.4680, 0.2745, 0.2576]\n",
        "    \n",
        "    img_lum = img_LAB[:,:,0]/255.0\n",
        "    img_a = img_LAB[:,:,1]/255.0\n",
        "    img_b = img_LAB[:,:,2]/255.0\n",
        "\n",
        "    # item-1\n",
        "    chroma = np.sqrt(np.square(img_a)+np.square(img_b))\n",
        "    sigma_c = np.std(chroma)\n",
        "\n",
        "    # item-2\n",
        "    img_lum = img_lum.flatten()\n",
        "    sorted_index = np.argsort(img_lum)\n",
        "    top_index = sorted_index[int(len(img_lum)*0.99)]\n",
        "    bottom_index = sorted_index[int(len(img_lum)*0.01)]\n",
        "    con_lum = img_lum[top_index] - img_lum[bottom_index]\n",
        "\n",
        "    # item-3\n",
        "    chroma = chroma.flatten()\n",
        "    sat = np.divide(chroma, img_lum, out=np.zeros_like(chroma, dtype=np.float64), where=img_lum!=0)\n",
        "    avg_sat = np.mean(sat)\n",
        "\n",
        "    uciqe = sigma_c*coe_Metric[0] + con_lum*coe_Metric[1] + avg_sat*coe_Metric[2]\n",
        "    return uciqe"
      ]
    },
    {
      "cell_type": "markdown",
      "metadata": {
        "id": "W4XzFiiw6Xve"
      },
      "source": [
        "#### ***PSNR***"
      ]
    },
    {
      "cell_type": "code",
      "execution_count": 15,
      "metadata": {
        "id": "NSeHZgru6e7-"
      },
      "outputs": [],
      "source": [
        "def MSE(img1,img2):\n",
        "    diff = np.float64((img1-img2) ** 2)\n",
        "    mse = np.mean(diff)\n",
        "    if mse == 0:\n",
        "        return 100\n",
        "    return mse\n",
        "\n",
        "\n",
        "def psnr(img1,img2):\n",
        "    diff = np.float64((img1-img2) ** 2)\n",
        "    mse = np.mean(diff)\n",
        "    if mse == 0:\n",
        "        return 100\n",
        "    PIXEL_MAX = 255.0\n",
        "    return 20 * np.log10(PIXEL_MAX/np.sqrt(mse))"
      ]
    },
    {
      "cell_type": "markdown",
      "metadata": {
        "id": "TaZ5C4aO6cJF"
      },
      "source": [
        "#### ***SSIM***"
      ]
    },
    {
      "cell_type": "code",
      "execution_count": 16,
      "metadata": {
        "id": "0ZCdPKSC7iDr"
      },
      "outputs": [],
      "source": [
        "def getSSIM(X, Y):\n",
        "    assert (X.shape == Y.shape), \"Image-patche provided have different dimensions\"\n",
        "    nch = 1 if X.ndim==2 else X.shape[-1]\n",
        "    mssim = []\n",
        "    for ch in range(nch):\n",
        "        Xc, Yc = X[...,ch].astype(np.float64), Y[...,ch].astype(np.float64)\n",
        "        mssim.append(compute_ssim(Xc, Yc))\n",
        "    return np.mean(mssim)\n",
        "\n",
        "\n",
        "def compute_ssim(X, Y):\n",
        "    # variables are initialized as suggested in the paper\n",
        "    K1 = 0.01\n",
        "    K2 = 0.03\n",
        "    sigma = 1.5\n",
        "    win_size = 5   \n",
        "\n",
        "    # means\n",
        "    ux = gaussian_filter(X, sigma)\n",
        "    uy = gaussian_filter(Y, sigma)\n",
        "\n",
        "    # variances and covariances\n",
        "    uxx = gaussian_filter(X * X, sigma)\n",
        "    uyy = gaussian_filter(Y * Y, sigma)\n",
        "    uxy = gaussian_filter(X * Y, sigma)\n",
        "\n",
        "    # normalize by unbiased estimate of std dev \n",
        "    N = win_size ** X.ndim\n",
        "    unbiased_norm = N / (N - 1)  # eq. 4 of the paper\n",
        "    vx  = (uxx - ux * ux) * unbiased_norm\n",
        "    vy  = (uyy - uy * uy) * unbiased_norm\n",
        "    vxy = (uxy - ux * uy) * unbiased_norm\n",
        "\n",
        "    R = 255\n",
        "    C1 = (K1 * R) ** 2\n",
        "    C2 = (K2 * R) ** 2\n",
        "    # compute SSIM (eq. 13 of the paper)\n",
        "    sim = (2 * ux * uy + C1) * (2 * vxy + C2)\n",
        "    D = (ux ** 2 + uy ** 2 + C1) * (vx + vy + C2)\n",
        "    SSIM = sim/D \n",
        "    mssim = SSIM.mean()\n",
        "\n",
        "    return mssim"
      ]
    },
    {
      "cell_type": "markdown",
      "metadata": {
        "id": "L6bgeuBN84eJ"
      },
      "source": [
        "#### ***Skimagemetrics PSNR SSIM***"
      ]
    },
    {
      "cell_type": "code",
      "execution_count": 17,
      "metadata": {
        "id": "vuapXFtQ6pMN"
      },
      "outputs": [],
      "source": [
        "def getPSNR(im_true,im_test):\n",
        "    return peak_signal_noise_ratio(im_true,im_test)\n",
        "\n",
        "def SSIMM(im_true,im_test):\n",
        "    return structural_similarity(im_true,im_test,  multichannel=True)"
      ]
    }
  ],
  "metadata": {
    "colab": {
      "collapsed_sections": [
        "YPpvrekS8b_5",
        "exGrWPgt7MGq",
        "axfIi23z7XVO",
        "uu2Plq2-7tYL",
        "Nvei8eVN9Ay9",
        "nYMdtWhS9lp1",
        "0_D069lY9p2E",
        "d9lxM1SU-YmE",
        "_coagaoQ_H0e",
        "WgbcRszm_kQp"
      ],
      "provenance": [],
      "mount_file_id": "1xT8w5i7LYO-PEsKuf7DpdRtI64GwZcGJ",
      "authorship_tag": "ABX9TyPuefVlUovM52rZaAd/yhfc",
      "include_colab_link": true
    },
    "kernelspec": {
      "display_name": "Python 3",
      "name": "python3"
    },
    "language_info": {
      "name": "python"
    }
  },
  "nbformat": 4,
  "nbformat_minor": 0
}